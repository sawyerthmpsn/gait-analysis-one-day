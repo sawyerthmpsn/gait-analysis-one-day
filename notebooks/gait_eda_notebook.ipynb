{
 "cells": [
  {
   "cell_type": "markdown",
   "id": "2faccf8a",
   "metadata": {},
   "source": [
    "# 🧬 Exploratory Data Analysis of Human Gait Data"
   ]
  },
  {
   "cell_type": "code",
   "execution_count": null,
   "id": "9cbdaed9",
   "metadata": {},
   "outputs": [],
   "source": [
    "import pandas as pd\n",
    "import numpy as np\n",
    "import matplotlib.pyplot as plt\n",
    "import seaborn as sns\n",
    "from scipy.stats import f_oneway\n",
    "\n",
    "sns.set(style=\"whitegrid\", palette=\"pastel\")\n",
    "\n",
    "file_path = r'C:\\Users\\M338548\\Documents\\git\\gait-analysis-one-day\\data\\synthetic_gait_analysis_dataset.csv'\n",
    "df = pd.read_csv(file_path)\n",
    "\n",
    "display(df.head())\n",
    "print(\"Shape:\", df.shape)\n",
    "print(\"Data Types:\\n\", df.dtypes)\n",
    "print(\"Missing Values:\\n\", df.isnull().sum())\n",
    "display(df.describe())"
   ]
  },
  {
   "cell_type": "code",
   "execution_count": null,
   "id": "5d4895ec",
   "metadata": {},
   "outputs": [],
   "source": [
    "plt.figure(figsize=(8, 5))\n",
    "sns.histplot(df['Age'], kde=True, bins=20)\n",
    "plt.title('Age Distribution')\n",
    "plt.xlabel('Age')\n",
    "plt.ylabel('Count')\n",
    "plt.show()\n",
    "\n",
    "print(\"Age Summary:\n",
    "\", df['Age'].describe())"
   ]
  },
  {
   "cell_type": "code",
   "execution_count": null,
   "id": "c4dd59ee",
   "metadata": {},
   "outputs": [],
   "source": [
    "plt.figure(figsize=(6, 4))\n",
    "sns.countplot(x='Sex', data=df)\n",
    "plt.title('Sex Distribution')\n",
    "plt.ylabel('Count')\n",
    "plt.show()"
   ]
  },
  {
   "cell_type": "code",
   "execution_count": null,
   "id": "ef1e42ea",
   "metadata": {},
   "outputs": [],
   "source": [
    "plt.figure(figsize=(10, 5))\n",
    "sns.countplot(y='Pathology', data=df, order=df['Pathology'].value_counts().index)\n",
    "plt.title('Pathology Group Distribution')\n",
    "plt.xlabel('Count')\n",
    "plt.ylabel('Pathology')\n",
    "plt.show()"
   ]
  },
  {
   "cell_type": "code",
   "execution_count": null,
   "id": "39efac13",
   "metadata": {},
   "outputs": [],
   "source": [
    "gait_features = ['StrideLength', 'StepTime', 'GaitSpeed', 'Cadence', 'SwingPhase', 'StancePhase']\n",
    "\n",
    "for feature in gait_features:\n",
    "    plt.figure(figsize=(7, 4))\n",
    "    sns.histplot(df[feature], kde=True)\n",
    "    plt.title(f'{feature} Distribution')\n",
    "    plt.xlabel(feature)\n",
    "    plt.show()\n",
    "\n",
    "    plt.figure(figsize=(6, 4))\n",
    "    sns.boxplot(x=df[feature])\n",
    "    plt.title(f'{feature} Boxplot')\n",
    "    plt.show()"
   ]
  },
  {
   "cell_type": "code",
   "execution_count": null,
   "id": "8121279f",
   "metadata": {},
   "outputs": [],
   "source": [
    "plt.figure(figsize=(10, 8))\n",
    "corr_matrix = df[gait_features].corr()\n",
    "sns.heatmap(corr_matrix, annot=True, cmap='coolwarm', fmt=\".2f\")\n",
    "plt.title('Correlation Matrix of Gait Parameters')\n",
    "plt.show()"
   ]
  },
  {
   "cell_type": "code",
   "execution_count": null,
   "id": "ab70d3e4",
   "metadata": {},
   "outputs": [],
   "source": [
    "# Summary statistics by pathology\n",
    "group_stats = df.groupby('Pathology')[gait_features].agg(['mean', 'std'])\n",
    "display(group_stats)\n",
    "\n",
    "# Visual comparison using boxplots\n",
    "for feature in gait_features:\n",
    "    plt.figure(figsize=(10, 5))\n",
    "    sns.boxplot(x='Pathology', y=feature, data=df)\n",
    "    plt.xticks(rotation=45)\n",
    "    plt.title(f'{feature} by Pathology')\n",
    "    plt.tight_layout()\n",
    "    plt.show()"
   ]
  },
  {
   "cell_type": "code",
   "execution_count": null,
   "id": "d97d5bc4",
   "metadata": {},
   "outputs": [],
   "source": [
    "for feature in gait_features:\n",
    "    groups = [group[feature].dropna().values for name, group in df.groupby('Pathology')]\n",
    "    stat, p = f_oneway(*groups)\n",
    "    print(f\"{feature}: ANOVA F={stat:.2f}, p={p:.4f}\")"
   ]
  }
 ],
 "metadata": {},
 "nbformat": 4,
 "nbformat_minor": 5
}
